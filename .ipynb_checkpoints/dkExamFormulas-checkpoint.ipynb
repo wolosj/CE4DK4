{
 "cells": [
  {
   "cell_type": "code",
   "execution_count": 1,
   "id": "ef0bf0c3",
   "metadata": {},
   "outputs": [],
   "source": [
    "import math as m"
   ]
  },
  {
   "cell_type": "code",
   "execution_count": 50,
   "id": "29758d55",
   "metadata": {},
   "outputs": [],
   "source": [
    "def tPropCalc(meters: float)-> float:\n",
    "    c = 3e8\n",
    "    return meters/c\n",
    "def calcPf(nf: int, p: float)-> float:\n",
    "    return 1 - m.exp(-1*nf*p)\n",
    "    "
   ]
  },
  {
   "cell_type": "markdown",
   "id": "6e56d217",
   "metadata": {},
   "source": [
    "# Quiz 3"
   ]
  },
  {
   "cell_type": "markdown",
   "id": "21ffd90c",
   "metadata": {},
   "source": [
    "## Erlang B"
   ]
  },
  {
   "cell_type": "code",
   "execution_count": 2,
   "id": "f9232e88",
   "metadata": {},
   "outputs": [],
   "source": [
    "def erlangB(rate: float, duration: float, trunks: int)->list[float]:\n",
    "    A = rate*duration\n",
    "    sumDen = 1\n",
    "    for k in range(1, trunks+1):\n",
    "        sumDen += (A**k)/m.factorial(k)\n",
    "    bP = ((A**trunks)/m.factorial(trunks))/sumDen\n",
    "    util = ((1-bP)*A)/trunks\n",
    "    return [bP, util]\n",
    "\n",
    "    "
   ]
  },
  {
   "cell_type": "code",
   "execution_count": 7,
   "id": "83a550ed",
   "metadata": {},
   "outputs": [
    {
     "name": "stdout",
     "output_type": "stream",
     "text": [
      "[0.1205186350734296, 0.6282009749475502]\n",
      "300000000.0\n"
     ]
    }
   ],
   "source": [
    "a = erlangB(rate=5/6, duration=6, trunks=7)\n",
    "print(a)"
   ]
  },
  {
   "cell_type": "markdown",
   "id": "c0497f27",
   "metadata": {},
   "source": [
    "# Error Control"
   ]
  },
  {
   "cell_type": "markdown",
   "id": "2b66fa69",
   "metadata": {},
   "source": [
    "## Stop and Wait ARQ"
   ]
  },
  {
   "cell_type": "code",
   "execution_count": 27,
   "id": "76f00879",
   "metadata": {},
   "outputs": [],
   "source": [
    "def swARQ(tProp: float, tProc: float, nFrame: int, nAck: int, nOver: int, rate: int, pErr: float) -> list[float]:\n",
    "    t0 = 2*tProp + 2*tProc+(nFrame/rate)+(nAck/rate)\n",
    "    rEff = (nFrame - nOver)/t0\n",
    "    n0 = (rEff/rate)*(1-pErr)\n",
    "    return [t0, rEff, n0]"
   ]
  },
  {
   "cell_type": "code",
   "execution_count": 40,
   "id": "804f77ff",
   "metadata": {},
   "outputs": [
    {
     "name": "stdout",
     "output_type": "stream",
     "text": [
      "[0.010266666666666667, 954545.4545454545, 0.8638636363636363]\n"
     ]
    }
   ],
   "source": [
    "a = swARQ(tProp = tPropCalc(10000), tProc = 0, nFrame = 10000, nAck = 200, nOver = 200, rate=1e6, pErr = 0.095)\n",
    "print(a)"
   ]
  },
  {
   "cell_type": "markdown",
   "id": "fe2da981",
   "metadata": {},
   "source": [
    "## Go Back N ARQ"
   ]
  },
  {
   "cell_type": "code",
   "execution_count": 35,
   "id": "91dd4f64",
   "metadata": {},
   "outputs": [],
   "source": [
    "def reqWindowSize(tFrame: float, tPropProc: float)->int:\n",
    "    Ws = 0\n",
    "    while(Ws*tFrame <= tPropProc):\n",
    "        Ws += 1\n",
    "    return Ws"
   ]
  },
  {
   "cell_type": "code",
   "execution_count": 43,
   "id": "1ae1b840",
   "metadata": {},
   "outputs": [],
   "source": [
    "def gbnARQnoErr(tProp: float, tProc: float, tFrame: float, tAck: float, Ws: int) -> list[float]:\n",
    "    return [min(1, (Ws*tFrame)/(2*tProp+2*tProc+tFrame+tAck))]\n",
    "\n",
    "def gbnARQErr(pErr: float, nOver, nFrame, Ws) -> float:\n",
    "        n = ((1-(nOver/nFrame))/(1+(Ws-1)*pErr))*(1-pErr)\n",
    "        return [n]"
   ]
  },
  {
   "cell_type": "code",
   "execution_count": 55,
   "id": "e0524d6f",
   "metadata": {},
   "outputs": [
    {
     "name": "stdout",
     "output_type": "stream",
     "text": [
      "0.09516258196404048\n",
      "51 [0.45435998066403216]\n"
     ]
    }
   ],
   "source": [
    "pErr = calcPf(nf = 10000, p = 1e-5)\n",
    "print(pErr)\n",
    "a = reqWindowSize(tFrame = 10, tPropProc = 500)\n",
    "b = gbnARQErr(pErr = pErr, nOver = 200, nFrame = 10000, Ws = 11)\n",
    "print(a, b)\n"
   ]
  },
  {
   "cell_type": "code",
   "execution_count": null,
   "id": "c0555028",
   "metadata": {},
   "outputs": [],
   "source": []
  }
 ],
 "metadata": {
  "kernelspec": {
   "display_name": "Python 3 (ipykernel)",
   "language": "python",
   "name": "python3"
  },
  "language_info": {
   "codemirror_mode": {
    "name": "ipython",
    "version": 3
   },
   "file_extension": ".py",
   "mimetype": "text/x-python",
   "name": "python",
   "nbconvert_exporter": "python",
   "pygments_lexer": "ipython3",
   "version": "3.9.15"
  }
 },
 "nbformat": 4,
 "nbformat_minor": 5
}
