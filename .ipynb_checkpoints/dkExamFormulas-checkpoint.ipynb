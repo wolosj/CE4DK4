{
 "cells": [
  {
   "cell_type": "code",
   "execution_count": 1,
   "id": "ef0bf0c3",
   "metadata": {},
   "outputs": [],
   "source": [
    "import math as m"
   ]
  },
  {
   "cell_type": "code",
   "execution_count": 50,
   "id": "e8ca427a",
   "metadata": {},
   "outputs": [],
   "source": [
    "def tPropCalc(meters: float)-> float:\n",
    "    c = 3e8\n",
    "    return meters/c\n",
    "def calcPf(nf: int, p: float)-> float:\n",
    "    return 1 - m.exp(-1*nf*p)\n",
    "    "
   ]
  },
  {
   "cell_type": "markdown",
   "id": "6e56d217",
   "metadata": {},
   "source": [
    "# Quiz 3"
   ]
  },
  {
   "cell_type": "markdown",
   "id": "21ffd90c",
   "metadata": {},
   "source": [
    "## Erlang B"
   ]
  },
  {
   "cell_type": "code",
   "execution_count": 63,
   "id": "f9232e88",
   "metadata": {},
   "outputs": [],
   "source": [
    "def erlangB(rate: float, duration: float, trunks: int)->list[float]:\n",
    "    A = rate*duration\n",
    "    sumDen = 1\n",
    "    for k in range(1, trunks+1):\n",
    "        sumDen += (A**k)/m.factorial(k)\n",
    "    bP = ((A**trunks)/m.factorial(trunks))/sumDen\n",
    "    util = ((1-bP)*A)/trunks\n",
    "    print(f'Pb: {bP}, util: {util}')\n",
    "    return [bP, util]\n",
    "\n",
    "    "
   ]
  },
  {
   "cell_type": "code",
   "execution_count": 64,
   "id": "83a550ed",
   "metadata": {},
   "outputs": [
    {
     "name": "stdout",
     "output_type": "stream",
     "text": [
      "Pb: 0.1205186350734296, util: 0.6282009749475502\n",
      "[0.1205186350734296, 0.6282009749475502]\n"
     ]
    }
   ],
   "source": [
    "a = erlangB(rate=5/6, duration=6, trunks=7)\n",
    "print(a)"
   ]
  },
  {
   "cell_type": "markdown",
   "id": "ae8a6d79",
   "metadata": {},
   "source": [
    "# Error Control"
   ]
  },
  {
   "cell_type": "markdown",
   "id": "854402b7",
   "metadata": {},
   "source": [
    "## Stop and Wait ARQ"
   ]
  },
  {
   "cell_type": "code",
   "execution_count": 27,
   "id": "42d10de4",
   "metadata": {},
   "outputs": [],
   "source": [
    "def swARQ(tProp: float, tProc: float, nFrame: int, nAck: int, nOver: int, rate: int, pErr: float) -> list[float]:\n",
    "    t0 = 2*tProp + 2*tProc+(nFrame/rate)+(nAck/rate)\n",
    "    rEff = (nFrame - nOver)/t0\n",
    "    n0 = (rEff/rate)*(1-pErr)\n",
    "    return [t0, rEff, n0]"
   ]
  },
  {
   "cell_type": "code",
   "execution_count": 40,
   "id": "d25fd4cd",
   "metadata": {},
   "outputs": [
    {
     "name": "stdout",
     "output_type": "stream",
     "text": [
      "[0.010266666666666667, 954545.4545454545, 0.8638636363636363]\n"
     ]
    }
   ],
   "source": [
    "a = swARQ(tProp = tPropCalc(10000), tProc = 0, nFrame = 10000, nAck = 200, nOver = 200, rate=1e6, pErr = 0.095)\n",
    "print(a)"
   ]
  },
  {
   "cell_type": "markdown",
   "id": "c653e643",
   "metadata": {},
   "source": [
    "## Go Back N ARQ"
   ]
  },
  {
   "cell_type": "code",
   "execution_count": 57,
   "id": "52d51a50",
   "metadata": {},
   "outputs": [],
   "source": [
    "def reqWindowSize(tFrame: float, tPropProc: float)->int:\n",
    "    Ws = 0\n",
    "    while(Ws*tFrame <= tPropProc):\n",
    "        Ws += 1\n",
    "    print(f'Min Window Size: {Ws}')\n",
    "    return Ws"
   ]
  },
  {
   "cell_type": "code",
   "execution_count": 58,
   "id": "6462938a",
   "metadata": {},
   "outputs": [],
   "source": [
    "def gbnARQnoErr(tProp: float, tProc: float, tFrame: float, tAck: float, Ws: int) -> list[float]:\n",
    "    nNoErr = min(1, (Ws*tFrame)/(2*tProp+2*tProc+tFrame+tAck)) \n",
    "    print(f'Efficiency of GBN: {nNoErr}')\n",
    "    return [nNoErr]\n",
    "\n",
    "def gbnARQErr(pErr: float, nOver, nFrame, Ws) -> float:\n",
    "        n = ((1-(nOver/nFrame))/(1+(Ws-1)*pErr))*(1-pErr)\n",
    "        print(f'Efficiency of GBN: {n}')\n",
    "        return [n]"
   ]
  },
  {
   "cell_type": "code",
   "execution_count": 59,
   "id": "cd352632",
   "metadata": {},
   "outputs": [
    {
     "name": "stdout",
     "output_type": "stream",
     "text": [
      "0.09516258196404048\n",
      "Min Window Size: 51\n",
      "Efficiency of GBN: 0.45435998066403216\n",
      "51 [0.45435998066403216]\n"
     ]
    }
   ],
   "source": [
    "pErr = calcPf(nf = 10000, p = 1e-5)\n",
    "print(pErr)\n",
    "a = reqWindowSize(tFrame = 10, tPropProc = 500)\n",
    "b = gbnARQErr(pErr = pErr, nOver = 200, nFrame = 10000, Ws = 11)\n",
    "print(a, b)\n"
   ]
  },
  {
   "cell_type": "markdown",
   "id": "542e5d00",
   "metadata": {},
   "source": [
    "## Selective Repeat ARQ"
   ]
  },
  {
   "cell_type": "code",
   "execution_count": 68,
   "id": "5aeeae3b",
   "metadata": {},
   "outputs": [],
   "source": [
    "def effSRARQ(nF: int, nO: int, Pf: float)->float:\n",
    "    nSR = (1-(nO/nF))*(1-Pf)\n",
    "    print(f'Efficiency of SR: {nSR}')\n",
    "    return nSR\n"
   ]
  },
  {
   "cell_type": "code",
   "execution_count": 71,
   "id": "7014a9fd",
   "metadata": {},
   "outputs": [
    {
     "name": "stdout",
     "output_type": "stream",
     "text": [
      "0.6321205588285577\n",
      "Efficiency of SR: 0.3605218523480135\n"
     ]
    },
    {
     "data": {
      "text/plain": [
       "0.3605218523480135"
      ]
     },
     "execution_count": 71,
     "metadata": {},
     "output_type": "execute_result"
    }
   ],
   "source": [
    "pErr = calcPf(nf = 10000, p = 1e-4)\n",
    "print(pErr)\n",
    "effSRARQ(nF = 10000, nO = 200, Pf = pErr)"
   ]
  },
  {
   "cell_type": "markdown",
   "id": "f43def7a",
   "metadata": {},
   "source": [
    "# ALOHA"
   ]
  },
  {
   "cell_type": "code",
   "execution_count": 72,
   "id": "e0fd1884",
   "metadata": {},
   "outputs": [],
   "source": [
    "def rAlohaEff(tM: float, tD: float, M: float, D:float) -> float:\n",
    "    nSA = min(((D*tD)/(D*tD+M*tM)), ((m.exp(-1)*M*tD)/(D*tD+M*tM)))\n",
    "    print(f'Efficiency of reservation aloha: {nSA}')\n",
    "    return nSA\n",
    "    "
   ]
  },
  {
   "cell_type": "code",
   "execution_count": 73,
   "id": "7094bed5",
   "metadata": {},
   "outputs": [],
   "source": [
    "def sAlohaS(G: float)->float:\n",
    "    S = G*m.exp(-G)\n",
    "    print(f'The slotted Aloha throughput is: {S}')"
   ]
  },
  {
   "cell_type": "code",
   "execution_count": 84,
   "id": "f439b345",
   "metadata": {},
   "outputs": [
    {
     "name": "stdout",
     "output_type": "stream",
     "text": [
      "367.87944117144235\n",
      "360.0\n"
     ]
    }
   ],
   "source": [
    "a = 1 / m.exp(1)\n",
    "print(a*1000)\n",
    "\n",
    "print(3.6e6/10000)"
   ]
  },
  {
   "cell_type": "code",
   "execution_count": null,
   "id": "962d5baa",
   "metadata": {},
   "outputs": [],
   "source": []
  }
 ],
 "metadata": {
  "kernelspec": {
   "display_name": "Python 3 (ipykernel)",
   "language": "python",
   "name": "python3"
  },
  "language_info": {
   "codemirror_mode": {
    "name": "ipython",
    "version": 3
   },
   "file_extension": ".py",
   "mimetype": "text/x-python",
   "name": "python",
   "nbconvert_exporter": "python",
   "pygments_lexer": "ipython3",
   "version": "3.9.15"
  }
 },
 "nbformat": 4,
 "nbformat_minor": 5
}
