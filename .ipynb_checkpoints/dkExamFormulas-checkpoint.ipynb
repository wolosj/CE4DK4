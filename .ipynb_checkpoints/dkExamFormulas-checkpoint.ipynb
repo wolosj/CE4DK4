{
 "cells": [
  {
   "cell_type": "code",
   "execution_count": 2,
   "id": "ef0bf0c3",
   "metadata": {},
   "outputs": [],
   "source": [
    "import math as m"
   ]
  },
  {
   "cell_type": "markdown",
   "id": "6e56d217",
   "metadata": {},
   "source": [
    "# Quiz 3"
   ]
  },
  {
   "cell_type": "markdown",
   "id": "21ffd90c",
   "metadata": {},
   "source": [
    "## Erlang B"
   ]
  },
  {
   "cell_type": "code",
   "execution_count": 6,
   "id": "f9232e88",
   "metadata": {},
   "outputs": [],
   "source": [
    "def erlangB(rate: float, duration: float, trunks: int)->list[float]:\n",
    "    A = rate*duration\n",
    "    sumDen = 1\n",
    "    for k in range(1, trunks+1):\n",
    "        sumDen += (A**k)/m.factorial(k)\n",
    "    bP = ((A**trunks)/m.factorial(trunks))/sumDen\n",
    "    util = ((1-bP)*A)/trunks\n",
    "    return [bP, util]\n",
    "\n",
    "    "
   ]
  },
  {
   "cell_type": "code",
   "execution_count": 9,
   "id": "83a550ed",
   "metadata": {},
   "outputs": [
    {
     "name": "stdout",
     "output_type": "stream",
     "text": [
      "[0.1205186350734296, 0.6282009749475502]\n"
     ]
    }
   ],
   "source": [
    "a = erlangB(rate=5/6, duration=6, trunks=7)\n",
    "print(a)"
   ]
  }
 ],
 "metadata": {
  "kernelspec": {
   "display_name": "Python 3 (ipykernel)",
   "language": "python",
   "name": "python3"
  },
  "language_info": {
   "codemirror_mode": {
    "name": "ipython",
    "version": 3
   },
   "file_extension": ".py",
   "mimetype": "text/x-python",
   "name": "python",
   "nbconvert_exporter": "python",
   "pygments_lexer": "ipython3",
   "version": "3.9.7"
  }
 },
 "nbformat": 4,
 "nbformat_minor": 5
}
